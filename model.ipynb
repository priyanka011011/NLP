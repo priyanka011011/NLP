{
  "nbformat": 4,
  "nbformat_minor": 0,
  "metadata": {
    "colab": {
      "provenance": [],
      "authorship_tag": "ABX9TyMvd4MGuOAA6cJmYHZ6QWCf",
      "include_colab_link": true
    },
    "kernelspec": {
      "name": "python3",
      "display_name": "Python 3"
    },
    "language_info": {
      "name": "python"
    },
    "accelerator": "GPU",
    "gpuClass": "standard"
  },
  "cells": [
    {
      "cell_type": "markdown",
      "metadata": {
        "id": "view-in-github",
        "colab_type": "text"
      },
      "source": [
        "<a href=\"https://colab.research.google.com/github/priyanka011011/NLP/blob/main/model.ipynb\" target=\"_parent\"><img src=\"https://colab.research.google.com/assets/colab-badge.svg\" alt=\"Open In Colab\"/></a>"
      ]
    },
    {
      "cell_type": "markdown",
      "source": [
        "# **Use Case ZAF202305 Next Word Suggestion**\n",
        "\n",
        "### **Overview**\n",
        "We are building a web application with API access to a machine learning model without giving source of code or any details how it works, which helps you type faster on the laptop with a high quality next sword suggestions, based on what was typed so far. There are several possible scenarios:\n",
        "\n",
        "### **Methodology**\n",
        "The model is supposed to be trained on a large amount of texts. Suggested models are: LSTM Smoothed word Unigram models Smoothed word Bigram Markov Models\n",
        "\n",
        "### **AI Application**\n",
        "\n",
        "\n",
        "*   NLP\n",
        "\n",
        "### **Business Segments**\n",
        "\n",
        "\n",
        "*   Lifestyle & Social Media, Media & Publishing\n",
        "*   Business & Private Sector\n",
        "\n",
        "### **Data**\n",
        "\n",
        "### **Papers**\n",
        "\n",
        "### **Demo Link**\n",
        "\n",
        "\n",
        "\n",
        "\n",
        "\n",
        "\n"
      ],
      "metadata": {
        "id": "EhXQRCR-ZlA8"
      }
    },
    {
      "cell_type": "markdown",
      "source": [
        "#### 1 - Load The Data"
      ],
      "metadata": {
        "id": "dz1KfjjQbmPr"
      }
    },
    {
      "cell_type": "code",
      "source": [],
      "metadata": {
        "id": "8Sfz02VtbecR"
      },
      "execution_count": null,
      "outputs": []
    },
    {
      "cell_type": "markdown",
      "source": [
        "#### 2 -Data Preprocessing, Exploratory Data Analysis"
      ],
      "metadata": {
        "id": "v-gyORBccKBb"
      }
    },
    {
      "cell_type": "code",
      "source": [],
      "metadata": {
        "id": "XchTVmp-dczl"
      },
      "execution_count": null,
      "outputs": []
    }
  ]
}